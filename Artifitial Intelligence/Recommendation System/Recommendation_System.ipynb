{
  "nbformat": 4,
  "nbformat_minor": 0,
  "metadata": {
    "colab": {
      "provenance": []
    },
    "kernelspec": {
      "name": "python3",
      "display_name": "Python 3"
    },
    "language_info": {
      "name": "python"
    }
  },
  "cells": [
    {
      "cell_type": "markdown",
      "source": [
        "# Movie Recommender"
      ],
      "metadata": {
        "id": "U8qQ8PzjOGEM"
      }
    },
    {
      "cell_type": "markdown",
      "source": [
        "##Backend"
      ],
      "metadata": {
        "id": "1-e3uHa2Rzz_"
      }
    },
    {
      "cell_type": "code",
      "execution_count": 1,
      "metadata": {
        "id": "0CZTFmQy83vM"
      },
      "outputs": [],
      "source": [
        "import numpy as np\n",
        "import pandas as pd\n",
        "import requests\n",
        "from IPython.display import Image, HTML, display\n",
        "import warnings\n",
        "def warns(*args,**kwargs): pass\n",
        "warnings.warn=warns\n",
        "import os\n",
        "import ast\n",
        "import nltk\n",
        "from nltk.stem.porter import PorterStemmer\n",
        "from sklearn.feature_extraction.text import CountVectorizer\n",
        "from sklearn.metrics.pairwise import cosine_similarity\n",
        "countVec = CountVectorizer(max_features=10000, stop_words='english')\n",
        "ps = PorterStemmer()"
      ]
    },
    {
      "cell_type": "code",
      "source": [
        "dfmovies = pd.read_csv(\"/content/tmdb_5000_movies.csv\")\n",
        "dfcredits = pd.read_csv(\"/content/tmdb_5000_credits.csv\")"
      ],
      "metadata": {
        "id": "MaHY2GHT9dva"
      },
      "execution_count": 2,
      "outputs": []
    },
    {
      "cell_type": "code",
      "source": [
        "dfmovies.info()"
      ],
      "metadata": {
        "colab": {
          "base_uri": "https://localhost:8080/"
        },
        "id": "M5OjQWThOS58",
        "outputId": "e8b54e41-f2a6-4227-9537-5a8ce57c372b"
      },
      "execution_count": 3,
      "outputs": [
        {
          "output_type": "stream",
          "name": "stdout",
          "text": [
            "<class 'pandas.core.frame.DataFrame'>\n",
            "RangeIndex: 4803 entries, 0 to 4802\n",
            "Data columns (total 20 columns):\n",
            " #   Column                Non-Null Count  Dtype  \n",
            "---  ------                --------------  -----  \n",
            " 0   budget                4803 non-null   int64  \n",
            " 1   genres                4803 non-null   object \n",
            " 2   homepage              1712 non-null   object \n",
            " 3   id                    4803 non-null   int64  \n",
            " 4   keywords              4803 non-null   object \n",
            " 5   original_language     4803 non-null   object \n",
            " 6   original_title        4803 non-null   object \n",
            " 7   overview              4800 non-null   object \n",
            " 8   popularity            4803 non-null   float64\n",
            " 9   production_companies  4803 non-null   object \n",
            " 10  production_countries  4803 non-null   object \n",
            " 11  release_date          4802 non-null   object \n",
            " 12  revenue               4803 non-null   int64  \n",
            " 13  runtime               4801 non-null   float64\n",
            " 14  spoken_languages      4803 non-null   object \n",
            " 15  status                4803 non-null   object \n",
            " 16  tagline               3959 non-null   object \n",
            " 17  title                 4803 non-null   object \n",
            " 18  vote_average          4803 non-null   float64\n",
            " 19  vote_count            4803 non-null   int64  \n",
            "dtypes: float64(3), int64(4), object(13)\n",
            "memory usage: 750.6+ KB\n"
          ]
        }
      ]
    },
    {
      "cell_type": "code",
      "source": [
        "dfcredits.info()"
      ],
      "metadata": {
        "colab": {
          "base_uri": "https://localhost:8080/"
        },
        "id": "pT8yxJfYOotz",
        "outputId": "d83ae098-4509-43bd-cf05-0197b4bb3a31"
      },
      "execution_count": 4,
      "outputs": [
        {
          "output_type": "stream",
          "name": "stdout",
          "text": [
            "<class 'pandas.core.frame.DataFrame'>\n",
            "RangeIndex: 4803 entries, 0 to 4802\n",
            "Data columns (total 4 columns):\n",
            " #   Column    Non-Null Count  Dtype \n",
            "---  ------    --------------  ----- \n",
            " 0   movie_id  4803 non-null   int64 \n",
            " 1   title     4803 non-null   object\n",
            " 2   cast      4803 non-null   object\n",
            " 3   crew      4803 non-null   object\n",
            "dtypes: int64(1), object(3)\n",
            "memory usage: 150.2+ KB\n"
          ]
        }
      ]
    },
    {
      "cell_type": "code",
      "source": [
        "dfcombine = dfmovies.merge(dfcredits, on='title')\n",
        "dfcombine.columns"
      ],
      "metadata": {
        "colab": {
          "base_uri": "https://localhost:8080/"
        },
        "id": "GkaWZbeBOsyg",
        "outputId": "92df495b-93d9-45ac-a92b-8fe406b985ac"
      },
      "execution_count": 5,
      "outputs": [
        {
          "output_type": "execute_result",
          "data": {
            "text/plain": [
              "Index(['budget', 'genres', 'homepage', 'id', 'keywords', 'original_language',\n",
              "       'original_title', 'overview', 'popularity', 'production_companies',\n",
              "       'production_countries', 'release_date', 'revenue', 'runtime',\n",
              "       'spoken_languages', 'status', 'tagline', 'title', 'vote_average',\n",
              "       'vote_count', 'movie_id', 'cast', 'crew'],\n",
              "      dtype='object')"
            ]
          },
          "metadata": {},
          "execution_count": 5
        }
      ]
    },
    {
      "cell_type": "code",
      "source": [
        "features_cols = ['id', 'title', 'original_title', 'tagline', 'genres', 'keywords', 'cast', 'crew', 'overview']\n",
        "df_final = dfcombine[features_cols]\n",
        "df_final.info()"
      ],
      "metadata": {
        "colab": {
          "base_uri": "https://localhost:8080/"
        },
        "id": "ON4RDqFDOttb",
        "outputId": "5f2f6157-0214-4dc0-b514-7531ba52fd47"
      },
      "execution_count": 6,
      "outputs": [
        {
          "output_type": "stream",
          "name": "stdout",
          "text": [
            "<class 'pandas.core.frame.DataFrame'>\n",
            "RangeIndex: 4809 entries, 0 to 4808\n",
            "Data columns (total 9 columns):\n",
            " #   Column          Non-Null Count  Dtype \n",
            "---  ------          --------------  ----- \n",
            " 0   id              4809 non-null   int64 \n",
            " 1   title           4809 non-null   object\n",
            " 2   original_title  4809 non-null   object\n",
            " 3   tagline         3965 non-null   object\n",
            " 4   genres          4809 non-null   object\n",
            " 5   keywords        4809 non-null   object\n",
            " 6   cast            4809 non-null   object\n",
            " 7   crew            4809 non-null   object\n",
            " 8   overview        4806 non-null   object\n",
            "dtypes: int64(1), object(8)\n",
            "memory usage: 338.3+ KB\n"
          ]
        }
      ]
    },
    {
      "cell_type": "code",
      "source": [
        "df_final.isnull().sum()"
      ],
      "metadata": {
        "colab": {
          "base_uri": "https://localhost:8080/"
        },
        "id": "DF2DoaCiO1kW",
        "outputId": "bcd3af76-c7f8-496e-a4ef-d54ddaf1a756"
      },
      "execution_count": 7,
      "outputs": [
        {
          "output_type": "execute_result",
          "data": {
            "text/plain": [
              "id                  0\n",
              "title               0\n",
              "original_title      0\n",
              "tagline           844\n",
              "genres              0\n",
              "keywords            0\n",
              "cast                0\n",
              "crew                0\n",
              "overview            3\n",
              "dtype: int64"
            ]
          },
          "metadata": {},
          "execution_count": 7
        }
      ]
    },
    {
      "cell_type": "code",
      "source": [
        "df_final['tagline'] = df_final['tagline'].fillna('unknown')\n",
        "df_final.dropna(inplace=True)\n",
        "df_final.isnull().sum()"
      ],
      "metadata": {
        "colab": {
          "base_uri": "https://localhost:8080/"
        },
        "id": "9p3kuOIYO5KI",
        "outputId": "b29af5e0-68b1-4937-8b4f-5476c2f5b952"
      },
      "execution_count": 8,
      "outputs": [
        {
          "output_type": "execute_result",
          "data": {
            "text/plain": [
              "id                0\n",
              "title             0\n",
              "original_title    0\n",
              "tagline           0\n",
              "genres            0\n",
              "keywords          0\n",
              "cast              0\n",
              "crew              0\n",
              "overview          0\n",
              "dtype: int64"
            ]
          },
          "metadata": {},
          "execution_count": 8
        }
      ]
    },
    {
      "cell_type": "code",
      "source": [
        "def colData_Transform(obj):\n",
        "    lst = []\n",
        "    for i in ast.literal_eval(obj):\n",
        "        lst.append(i['name'].replace(\" \",\"\").lower())\n",
        "    return lst\n",
        "\n",
        "def fetch_cast_data(obj):\n",
        "    lst = []\n",
        "    counter = 0\n",
        "    for i in ast.literal_eval(obj):\n",
        "        if counter < 5:\n",
        "            lst.append(i['name'].replace(\" \",\"\").lower())\n",
        "            counter += 1\n",
        "    return lst\n",
        "\n",
        "def get_crew_data(obj):\n",
        "    lst = []\n",
        "    for x in ast.literal_eval(obj):\n",
        "        if x['job'] == \"Director\":\n",
        "            lst.append(x['name'].replace(\" \",\"\").lower())\n",
        "    return lst"
      ],
      "metadata": {
        "id": "kxx97WPlO_-N"
      },
      "execution_count": 9,
      "outputs": []
    },
    {
      "cell_type": "code",
      "source": [
        "df_final['tags'] = df_final['overview'].apply(lambda x: x.lower() and x.split() )\n",
        "df_final['tags'] = df_final['tags'] + df_final['genres'].apply(colData_Transform)\n",
        "df_final['tags'] = df_final['tags'] + df_final['keywords'].apply(colData_Transform)\n",
        "df_final['tags'] = df_final['tags'] + df_final['cast'].apply(fetch_cast_data)\n",
        "df_final['tags'] = df_final['tags'] + df_final['crew'].apply(get_crew_data)\n",
        "df_final['tags'] = df_final['tags'] + df_final['title'].apply(lambda x: x.lower() and x.split() )"
      ],
      "metadata": {
        "id": "BqKf_HhhPYo_"
      },
      "execution_count": 10,
      "outputs": []
    },
    {
      "cell_type": "code",
      "source": [
        "for x, xRow in df_final.iterrows():\n",
        "    if (xRow['original_title'] != xRow['title'] ):\n",
        "        df_final.at[x, 'tags'] = xRow['tags'] + xRow['original_title'].lower().split()"
      ],
      "metadata": {
        "id": "8-F8XN97PbLX"
      },
      "execution_count": 11,
      "outputs": []
    },
    {
      "cell_type": "code",
      "source": [
        "for x, xRow in df_final.iterrows():\n",
        "    if (xRow['tagline'] != 'unknown'):\n",
        "        df_final.at[x, 'tags'] = xRow['tags'] + xRow['tagline'].lower().split()"
      ],
      "metadata": {
        "id": "CruiiK5hPdhI"
      },
      "execution_count": 12,
      "outputs": []
    },
    {
      "cell_type": "code",
      "source": [
        "df_new_final = df_final[['id', 'title', 'tags']]\n",
        "df_new_final['tags'] = df_new_final['tags'].apply(lambda x: \" \".join(x).lower())\n",
        "df_new_final['tags'] = df_new_final['tags'].str.lower()\n",
        "df_new_final.head()"
      ],
      "metadata": {
        "colab": {
          "base_uri": "https://localhost:8080/",
          "height": 206
        },
        "id": "Xn6Y4hVLPfrw",
        "outputId": "2e4325d6-0d88-4fe0-8669-6d52b5aa95d2"
      },
      "execution_count": 13,
      "outputs": [
        {
          "output_type": "execute_result",
          "data": {
            "text/plain": [
              "       id                                     title  \\\n",
              "0   19995                                    Avatar   \n",
              "1     285  Pirates of the Caribbean: At World's End   \n",
              "2  206647                                   Spectre   \n",
              "3   49026                     The Dark Knight Rises   \n",
              "4   49529                               John Carter   \n",
              "\n",
              "                                                tags  \n",
              "0  in the 22nd century, a paraplegic marine is di...  \n",
              "1  captain barbossa, long believed to be dead, ha...  \n",
              "2  a cryptic message from bond’s past sends him o...  \n",
              "3  following the death of district attorney harve...  \n",
              "4  john carter is a war-weary, former military ca...  "
            ],
            "text/html": [
              "\n",
              "  <div id=\"df-1c1a7d9e-062b-4248-8e4a-136fd9953a06\" class=\"colab-df-container\">\n",
              "    <div>\n",
              "<style scoped>\n",
              "    .dataframe tbody tr th:only-of-type {\n",
              "        vertical-align: middle;\n",
              "    }\n",
              "\n",
              "    .dataframe tbody tr th {\n",
              "        vertical-align: top;\n",
              "    }\n",
              "\n",
              "    .dataframe thead th {\n",
              "        text-align: right;\n",
              "    }\n",
              "</style>\n",
              "<table border=\"1\" class=\"dataframe\">\n",
              "  <thead>\n",
              "    <tr style=\"text-align: right;\">\n",
              "      <th></th>\n",
              "      <th>id</th>\n",
              "      <th>title</th>\n",
              "      <th>tags</th>\n",
              "    </tr>\n",
              "  </thead>\n",
              "  <tbody>\n",
              "    <tr>\n",
              "      <th>0</th>\n",
              "      <td>19995</td>\n",
              "      <td>Avatar</td>\n",
              "      <td>in the 22nd century, a paraplegic marine is di...</td>\n",
              "    </tr>\n",
              "    <tr>\n",
              "      <th>1</th>\n",
              "      <td>285</td>\n",
              "      <td>Pirates of the Caribbean: At World's End</td>\n",
              "      <td>captain barbossa, long believed to be dead, ha...</td>\n",
              "    </tr>\n",
              "    <tr>\n",
              "      <th>2</th>\n",
              "      <td>206647</td>\n",
              "      <td>Spectre</td>\n",
              "      <td>a cryptic message from bond’s past sends him o...</td>\n",
              "    </tr>\n",
              "    <tr>\n",
              "      <th>3</th>\n",
              "      <td>49026</td>\n",
              "      <td>The Dark Knight Rises</td>\n",
              "      <td>following the death of district attorney harve...</td>\n",
              "    </tr>\n",
              "    <tr>\n",
              "      <th>4</th>\n",
              "      <td>49529</td>\n",
              "      <td>John Carter</td>\n",
              "      <td>john carter is a war-weary, former military ca...</td>\n",
              "    </tr>\n",
              "  </tbody>\n",
              "</table>\n",
              "</div>\n",
              "    <div class=\"colab-df-buttons\">\n",
              "\n",
              "  <div class=\"colab-df-container\">\n",
              "    <button class=\"colab-df-convert\" onclick=\"convertToInteractive('df-1c1a7d9e-062b-4248-8e4a-136fd9953a06')\"\n",
              "            title=\"Convert this dataframe to an interactive table.\"\n",
              "            style=\"display:none;\">\n",
              "\n",
              "  <svg xmlns=\"http://www.w3.org/2000/svg\" height=\"24px\" viewBox=\"0 -960 960 960\">\n",
              "    <path d=\"M120-120v-720h720v720H120Zm60-500h600v-160H180v160Zm220 220h160v-160H400v160Zm0 220h160v-160H400v160ZM180-400h160v-160H180v160Zm440 0h160v-160H620v160ZM180-180h160v-160H180v160Zm440 0h160v-160H620v160Z\"/>\n",
              "  </svg>\n",
              "    </button>\n",
              "\n",
              "  <style>\n",
              "    .colab-df-container {\n",
              "      display:flex;\n",
              "      gap: 12px;\n",
              "    }\n",
              "\n",
              "    .colab-df-convert {\n",
              "      background-color: #E8F0FE;\n",
              "      border: none;\n",
              "      border-radius: 50%;\n",
              "      cursor: pointer;\n",
              "      display: none;\n",
              "      fill: #1967D2;\n",
              "      height: 32px;\n",
              "      padding: 0 0 0 0;\n",
              "      width: 32px;\n",
              "    }\n",
              "\n",
              "    .colab-df-convert:hover {\n",
              "      background-color: #E2EBFA;\n",
              "      box-shadow: 0px 1px 2px rgba(60, 64, 67, 0.3), 0px 1px 3px 1px rgba(60, 64, 67, 0.15);\n",
              "      fill: #174EA6;\n",
              "    }\n",
              "\n",
              "    .colab-df-buttons div {\n",
              "      margin-bottom: 4px;\n",
              "    }\n",
              "\n",
              "    [theme=dark] .colab-df-convert {\n",
              "      background-color: #3B4455;\n",
              "      fill: #D2E3FC;\n",
              "    }\n",
              "\n",
              "    [theme=dark] .colab-df-convert:hover {\n",
              "      background-color: #434B5C;\n",
              "      box-shadow: 0px 1px 3px 1px rgba(0, 0, 0, 0.15);\n",
              "      filter: drop-shadow(0px 1px 2px rgba(0, 0, 0, 0.3));\n",
              "      fill: #FFFFFF;\n",
              "    }\n",
              "  </style>\n",
              "\n",
              "    <script>\n",
              "      const buttonEl =\n",
              "        document.querySelector('#df-1c1a7d9e-062b-4248-8e4a-136fd9953a06 button.colab-df-convert');\n",
              "      buttonEl.style.display =\n",
              "        google.colab.kernel.accessAllowed ? 'block' : 'none';\n",
              "\n",
              "      async function convertToInteractive(key) {\n",
              "        const element = document.querySelector('#df-1c1a7d9e-062b-4248-8e4a-136fd9953a06');\n",
              "        const dataTable =\n",
              "          await google.colab.kernel.invokeFunction('convertToInteractive',\n",
              "                                                    [key], {});\n",
              "        if (!dataTable) return;\n",
              "\n",
              "        const docLinkHtml = 'Like what you see? Visit the ' +\n",
              "          '<a target=\"_blank\" href=https://colab.research.google.com/notebooks/data_table.ipynb>data table notebook</a>'\n",
              "          + ' to learn more about interactive tables.';\n",
              "        element.innerHTML = '';\n",
              "        dataTable['output_type'] = 'display_data';\n",
              "        await google.colab.output.renderOutput(dataTable, element);\n",
              "        const docLink = document.createElement('div');\n",
              "        docLink.innerHTML = docLinkHtml;\n",
              "        element.appendChild(docLink);\n",
              "      }\n",
              "    </script>\n",
              "  </div>\n",
              "\n",
              "\n",
              "<div id=\"df-bd693b3e-bafb-4ff0-be93-1fab96af2329\">\n",
              "  <button class=\"colab-df-quickchart\" onclick=\"quickchart('df-bd693b3e-bafb-4ff0-be93-1fab96af2329')\"\n",
              "            title=\"Suggest charts\"\n",
              "            style=\"display:none;\">\n",
              "\n",
              "<svg xmlns=\"http://www.w3.org/2000/svg\" height=\"24px\"viewBox=\"0 0 24 24\"\n",
              "     width=\"24px\">\n",
              "    <g>\n",
              "        <path d=\"M19 3H5c-1.1 0-2 .9-2 2v14c0 1.1.9 2 2 2h14c1.1 0 2-.9 2-2V5c0-1.1-.9-2-2-2zM9 17H7v-7h2v7zm4 0h-2V7h2v10zm4 0h-2v-4h2v4z\"/>\n",
              "    </g>\n",
              "</svg>\n",
              "  </button>\n",
              "\n",
              "<style>\n",
              "  .colab-df-quickchart {\n",
              "      --bg-color: #E8F0FE;\n",
              "      --fill-color: #1967D2;\n",
              "      --hover-bg-color: #E2EBFA;\n",
              "      --hover-fill-color: #174EA6;\n",
              "      --disabled-fill-color: #AAA;\n",
              "      --disabled-bg-color: #DDD;\n",
              "  }\n",
              "\n",
              "  [theme=dark] .colab-df-quickchart {\n",
              "      --bg-color: #3B4455;\n",
              "      --fill-color: #D2E3FC;\n",
              "      --hover-bg-color: #434B5C;\n",
              "      --hover-fill-color: #FFFFFF;\n",
              "      --disabled-bg-color: #3B4455;\n",
              "      --disabled-fill-color: #666;\n",
              "  }\n",
              "\n",
              "  .colab-df-quickchart {\n",
              "    background-color: var(--bg-color);\n",
              "    border: none;\n",
              "    border-radius: 50%;\n",
              "    cursor: pointer;\n",
              "    display: none;\n",
              "    fill: var(--fill-color);\n",
              "    height: 32px;\n",
              "    padding: 0;\n",
              "    width: 32px;\n",
              "  }\n",
              "\n",
              "  .colab-df-quickchart:hover {\n",
              "    background-color: var(--hover-bg-color);\n",
              "    box-shadow: 0 1px 2px rgba(60, 64, 67, 0.3), 0 1px 3px 1px rgba(60, 64, 67, 0.15);\n",
              "    fill: var(--button-hover-fill-color);\n",
              "  }\n",
              "\n",
              "  .colab-df-quickchart-complete:disabled,\n",
              "  .colab-df-quickchart-complete:disabled:hover {\n",
              "    background-color: var(--disabled-bg-color);\n",
              "    fill: var(--disabled-fill-color);\n",
              "    box-shadow: none;\n",
              "  }\n",
              "\n",
              "  .colab-df-spinner {\n",
              "    border: 2px solid var(--fill-color);\n",
              "    border-color: transparent;\n",
              "    border-bottom-color: var(--fill-color);\n",
              "    animation:\n",
              "      spin 1s steps(1) infinite;\n",
              "  }\n",
              "\n",
              "  @keyframes spin {\n",
              "    0% {\n",
              "      border-color: transparent;\n",
              "      border-bottom-color: var(--fill-color);\n",
              "      border-left-color: var(--fill-color);\n",
              "    }\n",
              "    20% {\n",
              "      border-color: transparent;\n",
              "      border-left-color: var(--fill-color);\n",
              "      border-top-color: var(--fill-color);\n",
              "    }\n",
              "    30% {\n",
              "      border-color: transparent;\n",
              "      border-left-color: var(--fill-color);\n",
              "      border-top-color: var(--fill-color);\n",
              "      border-right-color: var(--fill-color);\n",
              "    }\n",
              "    40% {\n",
              "      border-color: transparent;\n",
              "      border-right-color: var(--fill-color);\n",
              "      border-top-color: var(--fill-color);\n",
              "    }\n",
              "    60% {\n",
              "      border-color: transparent;\n",
              "      border-right-color: var(--fill-color);\n",
              "    }\n",
              "    80% {\n",
              "      border-color: transparent;\n",
              "      border-right-color: var(--fill-color);\n",
              "      border-bottom-color: var(--fill-color);\n",
              "    }\n",
              "    90% {\n",
              "      border-color: transparent;\n",
              "      border-bottom-color: var(--fill-color);\n",
              "    }\n",
              "  }\n",
              "</style>\n",
              "\n",
              "  <script>\n",
              "    async function quickchart(key) {\n",
              "      const quickchartButtonEl =\n",
              "        document.querySelector('#' + key + ' button');\n",
              "      quickchartButtonEl.disabled = true;  // To prevent multiple clicks.\n",
              "      quickchartButtonEl.classList.add('colab-df-spinner');\n",
              "      try {\n",
              "        const charts = await google.colab.kernel.invokeFunction(\n",
              "            'suggestCharts', [key], {});\n",
              "      } catch (error) {\n",
              "        console.error('Error during call to suggestCharts:', error);\n",
              "      }\n",
              "      quickchartButtonEl.classList.remove('colab-df-spinner');\n",
              "      quickchartButtonEl.classList.add('colab-df-quickchart-complete');\n",
              "    }\n",
              "    (() => {\n",
              "      let quickchartButtonEl =\n",
              "        document.querySelector('#df-bd693b3e-bafb-4ff0-be93-1fab96af2329 button');\n",
              "      quickchartButtonEl.style.display =\n",
              "        google.colab.kernel.accessAllowed ? 'block' : 'none';\n",
              "    })();\n",
              "  </script>\n",
              "</div>\n",
              "\n",
              "    </div>\n",
              "  </div>\n"
            ],
            "application/vnd.google.colaboratory.intrinsic+json": {
              "type": "dataframe",
              "variable_name": "df_new_final",
              "summary": "{\n  \"name\": \"df_new_final\",\n  \"rows\": 4806,\n  \"fields\": [\n    {\n      \"column\": \"id\",\n      \"properties\": {\n        \"dtype\": \"number\",\n        \"std\": 88309,\n        \"min\": 5,\n        \"max\": 447027,\n        \"num_unique_values\": 4800,\n        \"samples\": [\n          8427,\n          9555,\n          10029\n        ],\n        \"semantic_type\": \"\",\n        \"description\": \"\"\n      }\n    },\n    {\n      \"column\": \"title\",\n      \"properties\": {\n        \"dtype\": \"string\",\n        \"num_unique_values\": 4797,\n        \"samples\": [\n          \"Two Brothers\",\n          \"From Paris with Love\",\n          \"Walk the Line\"\n        ],\n        \"semantic_type\": \"\",\n        \"description\": \"\"\n      }\n    },\n    {\n      \"column\": \"tags\",\n      \"properties\": {\n        \"dtype\": \"string\",\n        \"num_unique_values\": 4806,\n        \"samples\": [\n          \"an emotionally-beaten man with his young daughter moves to his ancestral home in newfoundland to reclaim his life. drama romance sex adultery basedonnovel fishing isolation kidnapping newfoundland survival reporter drunk kevinspacey juliannemoore cateblanchett judidench petepostlethwaite lassehallstr\\u00f6m the shipping news you'll never guess what you'll find inside...\",\n          \"special agent strahm is dead, and detective hoffman has emerged as the unchallenged successor to jigsaw's legacy. however, when the fbi draws closer to hoffman, he is forced to set a game into motion, and jigsaw's grand scheme is finally understood. horror mystery aftercreditsstinger tobinbell costasmandylor betsyrussell markrolston peterouterbridge kevingreutert saw vi the game has come full circle\",\n          \"combat has taken its toll on rambo, but he's finally begun to find inner peace in a monastery. when rambo's friend and mentor col. trautman asks for his help on a top secret mission to afghanistan, rambo declines but must reconsider when trautman is captured. action adventure thriller war competition submachinegun sovietunion liberation russian soviettroops thailand freedomfighter afghanistan waronfreedom machinegun mujahid realityshow western japanesefood soapopera sylvesterstallone richardcrenna kurtwoodsmith spirosfoc\\u00e1s sassongabai petermacdonald rambo iii the first was for himself. the second for his country. this time it's to save his friend.\"\n        ],\n        \"semantic_type\": \"\",\n        \"description\": \"\"\n      }\n    }\n  ]\n}"
            }
          },
          "metadata": {},
          "execution_count": 13
        }
      ]
    },
    {
      "cell_type": "code",
      "source": [
        "def xStem(txt):\n",
        "    y = []\n",
        "    for x in txt.split():\n",
        "        y.append(ps.stem(x))\n",
        "    return \" \".join(y)"
      ],
      "metadata": {
        "id": "FvcbXVBMPhv1"
      },
      "execution_count": 14,
      "outputs": []
    },
    {
      "cell_type": "code",
      "source": [
        "df_new_final['tags'] = df_new_final['tags'].apply(xStem)\n",
        "dataVectors = countVec.fit_transform(df_new_final['tags']).toarray()\n",
        "similarity = cosine_similarity(dataVectors)"
      ],
      "metadata": {
        "id": "fGK2GcaWPkHJ"
      },
      "execution_count": 15,
      "outputs": []
    },
    {
      "cell_type": "code",
      "source": [
        "similarity"
      ],
      "metadata": {
        "colab": {
          "base_uri": "https://localhost:8080/"
        },
        "id": "zBdGW5CNPmdv",
        "outputId": "e537c51a-76bf-470a-b5c0-03082cecee0c"
      },
      "execution_count": 16,
      "outputs": [
        {
          "output_type": "execute_result",
          "data": {
            "text/plain": [
              "array([[1.        , 0.11013346, 0.06598588, ..., 0.05458155, 0.        ,\n",
              "        0.        ],\n",
              "       [0.11013346, 1.        , 0.06419407, ..., 0.05309942, 0.03241019,\n",
              "        0.01785714],\n",
              "       [0.06598588, 0.06419407, 1.        , ..., 0.02120949, 0.        ,\n",
              "        0.        ],\n",
              "       ...,\n",
              "       [0.05458155, 0.05309942, 0.02120949, ..., 1.        , 0.03212463,\n",
              "        0.05309942],\n",
              "       [0.        , 0.03241019, 0.        , ..., 0.03212463, 1.        ,\n",
              "        0.08102547],\n",
              "       [0.        , 0.01785714, 0.        , ..., 0.05309942, 0.08102547,\n",
              "        1.        ]])"
            ]
          },
          "metadata": {},
          "execution_count": 16
        }
      ]
    },
    {
      "cell_type": "code",
      "source": [
        "import joblib\n",
        "\n",
        "similarity_matrix_path = '/content/similarity_matrix.joblib'\n",
        "joblib.dump(similarity, similarity_matrix_path)"
      ],
      "metadata": {
        "colab": {
          "base_uri": "https://localhost:8080/"
        },
        "id": "dD498Y2sRRd3",
        "outputId": "4c6e0b6c-48d3-473b-c471-90f37357d05b"
      },
      "execution_count": 19,
      "outputs": [
        {
          "output_type": "execute_result",
          "data": {
            "text/plain": [
              "['/content/similarity_matrix.joblib']"
            ]
          },
          "metadata": {},
          "execution_count": 19
        }
      ]
    },
    {
      "cell_type": "code",
      "source": [
        "df_new_final_path = '/content/df_new_final.csv'\n",
        "df_new_final.to_csv(df_new_final_path)"
      ],
      "metadata": {
        "id": "T_WzptxmoiHd"
      },
      "execution_count": 160,
      "outputs": []
    },
    {
      "cell_type": "markdown",
      "source": [
        "## Frontend"
      ],
      "metadata": {
        "id": "CP2gX90mRvvx"
      }
    },
    {
      "cell_type": "code",
      "source": [
        "similarity = joblib.load(similarity_matrix_path)"
      ],
      "metadata": {
        "id": "dNTKRYeVRdzZ"
      },
      "execution_count": 24,
      "outputs": []
    },
    {
      "cell_type": "code",
      "source": [
        "df_new_final = pd.read_csv(df_new_final_path)"
      ],
      "metadata": {
        "id": "kkCCxX6zo1Bo"
      },
      "execution_count": 161,
      "outputs": []
    },
    {
      "cell_type": "code",
      "source": [
        "def recommend_movies_names(xMovie):\n",
        "    movie_index = df_new_final[df_new_final[\"title\"].str.lower() == xMovie.lower()].index[0]\n",
        "    distances = similarity[movie_index]\n",
        "    listofMovies = sorted(list(enumerate(distances)), reverse=True, key=lambda x:x[1])[1:6]\n",
        "\n",
        "    for i in listofMovies:\n",
        "        print(df_new_final.iloc[i[0]][\"title\"])"
      ],
      "metadata": {
        "id": "zBFkWVkGPpFa"
      },
      "execution_count": 162,
      "outputs": []
    },
    {
      "cell_type": "code",
      "source": [
        "movies_list = {\"Avatar\",\"Batman\",\"Aliens\"}\n",
        "for x in movies_list:\n",
        "    print(\"-\"*20, \"Recommendations for [\", x,\"]\", \"-\"*20)\n",
        "    recommend_movies_names(x)"
      ],
      "metadata": {
        "colab": {
          "base_uri": "https://localhost:8080/"
        },
        "id": "mn0da9n0PvmZ",
        "outputId": "30bcedd9-f4df-4a40-e871-7e5bce2fb3a3"
      },
      "execution_count": 163,
      "outputs": [
        {
          "output_type": "stream",
          "name": "stdout",
          "text": [
            "-------------------- Recommendations for [ Avatar ] --------------------\n",
            "Aliens\n",
            "Aliens vs Predator: Requiem\n",
            "Aliens in the Attic\n",
            "Titan A.E.\n",
            "Independence Day\n",
            "-------------------- Recommendations for [ Aliens ] --------------------\n",
            "Alien\n",
            "Alien³\n",
            "Aliens vs Predator: Requiem\n",
            "Meet Dave\n",
            "Aliens in the Attic\n",
            "-------------------- Recommendations for [ Batman ] --------------------\n",
            "Batman\n",
            "Batman & Robin\n",
            "Batman Begins\n",
            "Batman Returns\n",
            "The Dark Knight\n"
          ]
        }
      ]
    },
    {
      "cell_type": "markdown",
      "source": [
        "# Book Recommender"
      ],
      "metadata": {
        "id": "PF2Vh6lbR_Fy"
      }
    },
    {
      "cell_type": "markdown",
      "source": [
        "## Backend"
      ],
      "metadata": {
        "id": "ldnJpkhwhT2a"
      }
    },
    {
      "cell_type": "code",
      "source": [
        "import pandas as pd\n",
        "import numpy as np\n",
        "import matplotlib.pyplot as plt\n",
        "import seaborn as sns\n",
        "from sklearn.metrics.pairwise import cosine_similarity"
      ],
      "metadata": {
        "id": "r6QZmkM-R-hA"
      },
      "execution_count": 84,
      "outputs": []
    },
    {
      "cell_type": "code",
      "source": [
        "book_df = pd.read_csv('/content/Books.csv')\n",
        "ratings_df = pd.read_csv('/content/Ratings.csv')\n",
        "user_df = pd.read_csv('/content/Users.csv')"
      ],
      "metadata": {
        "id": "KhKKvbPoUSW1"
      },
      "execution_count": 147,
      "outputs": []
    },
    {
      "cell_type": "code",
      "source": [
        "book_df.info()"
      ],
      "metadata": {
        "colab": {
          "base_uri": "https://localhost:8080/"
        },
        "id": "-W1en5nsUidB",
        "outputId": "ca742a91-7b1c-4a6b-bac9-2b17b118bbd6"
      },
      "execution_count": 29,
      "outputs": [
        {
          "output_type": "stream",
          "name": "stdout",
          "text": [
            "<class 'pandas.core.frame.DataFrame'>\n",
            "RangeIndex: 271360 entries, 0 to 271359\n",
            "Data columns (total 8 columns):\n",
            " #   Column               Non-Null Count   Dtype \n",
            "---  ------               --------------   ----- \n",
            " 0   ISBN                 271360 non-null  object\n",
            " 1   Book-Title           271360 non-null  object\n",
            " 2   Book-Author          271358 non-null  object\n",
            " 3   Year-Of-Publication  271360 non-null  object\n",
            " 4   Publisher            271358 non-null  object\n",
            " 5   Image-URL-S          271360 non-null  object\n",
            " 6   Image-URL-M          271360 non-null  object\n",
            " 7   Image-URL-L          271357 non-null  object\n",
            "dtypes: object(8)\n",
            "memory usage: 16.6+ MB\n"
          ]
        }
      ]
    },
    {
      "cell_type": "code",
      "source": [
        "ratings_df.info()"
      ],
      "metadata": {
        "colab": {
          "base_uri": "https://localhost:8080/"
        },
        "id": "IgqfiwTHXW27",
        "outputId": "b0bc6ee0-dafb-4e51-b21b-edefbbe2f849"
      },
      "execution_count": 118,
      "outputs": [
        {
          "output_type": "stream",
          "name": "stdout",
          "text": [
            "<class 'pandas.core.frame.DataFrame'>\n",
            "RangeIndex: 1149780 entries, 0 to 1149779\n",
            "Data columns (total 3 columns):\n",
            " #   Column       Non-Null Count    Dtype \n",
            "---  ------       --------------    ----- \n",
            " 0   User-ID      1149780 non-null  int64 \n",
            " 1   ISBN         1149780 non-null  object\n",
            " 2   Book-Rating  1149780 non-null  int64 \n",
            "dtypes: int64(2), object(1)\n",
            "memory usage: 26.3+ MB\n"
          ]
        }
      ]
    },
    {
      "cell_type": "code",
      "source": [
        "user_df.info()"
      ],
      "metadata": {
        "colab": {
          "base_uri": "https://localhost:8080/"
        },
        "id": "J5AgL1YtXZfQ",
        "outputId": "db023eaa-0ba5-4e80-b202-1a7286d70b2b"
      },
      "execution_count": 31,
      "outputs": [
        {
          "output_type": "stream",
          "name": "stdout",
          "text": [
            "<class 'pandas.core.frame.DataFrame'>\n",
            "RangeIndex: 278858 entries, 0 to 278857\n",
            "Data columns (total 3 columns):\n",
            " #   Column    Non-Null Count   Dtype  \n",
            "---  ------    --------------   -----  \n",
            " 0   User-ID   278858 non-null  int64  \n",
            " 1   Location  278858 non-null  object \n",
            " 2   Age       168096 non-null  float64\n",
            "dtypes: float64(1), int64(1), object(1)\n",
            "memory usage: 6.4+ MB\n"
          ]
        }
      ]
    },
    {
      "cell_type": "code",
      "source": [
        "merged_data = pd.merge(pd.merge(book_df, ratings_df, on='ISBN'), user_df, on='User-ID')"
      ],
      "metadata": {
        "id": "naq61uOxbY-Y"
      },
      "execution_count": 148,
      "outputs": []
    },
    {
      "cell_type": "code",
      "source": [
        "merged_data.info()"
      ],
      "metadata": {
        "colab": {
          "base_uri": "https://localhost:8080/"
        },
        "id": "EuiSP5vUc4TF",
        "outputId": "49282b59-1548-41d6-c196-409f0441b905"
      },
      "execution_count": 88,
      "outputs": [
        {
          "output_type": "stream",
          "name": "stdout",
          "text": [
            "<class 'pandas.core.frame.DataFrame'>\n",
            "RangeIndex: 35908 entries, 0 to 35907\n",
            "Data columns (total 13 columns):\n",
            " #   Column               Non-Null Count  Dtype  \n",
            "---  ------               --------------  -----  \n",
            " 0   ISBN                 35908 non-null  object \n",
            " 1   Book-Title           35908 non-null  object \n",
            " 2   Book-Author          35908 non-null  object \n",
            " 3   Publisher            35908 non-null  object \n",
            " 4   Image-URL-S          35908 non-null  object \n",
            " 5   Image-URL-M          35908 non-null  object \n",
            " 6   Image-URL-L          35908 non-null  object \n",
            " 7   Publication_Date     35908 non-null  object \n",
            " 8   Year-Of-Publication  35908 non-null  float64\n",
            " 9   User-ID              35908 non-null  int64  \n",
            " 10  Book-Rating          35908 non-null  int64  \n",
            " 11  Location             35908 non-null  object \n",
            " 12  Age                  35908 non-null  float64\n",
            "dtypes: float64(2), int64(2), object(9)\n",
            "memory usage: 3.6+ MB\n"
          ]
        }
      ]
    },
    {
      "cell_type": "code",
      "source": [
        "merged_data.dropna(inplace=True)\n",
        "merged_data.reset_index(drop=True, inplace=True)\n",
        "merged_data.drop(columns=[\"Image-URL-S\", \"Image-URL-M\", \"Image-URL-L\"], axis=1, inplace=True)\n",
        "merged_data = merged_data[merged_data[\"Book-Rating\"] > 0]"
      ],
      "metadata": {
        "id": "XaBypEsec72y"
      },
      "execution_count": 119,
      "outputs": []
    },
    {
      "cell_type": "code",
      "source": [
        "merged_data.info()"
      ],
      "metadata": {
        "colab": {
          "base_uri": "https://localhost:8080/"
        },
        "id": "_JCOqvnpdJEA",
        "outputId": "21f7a11b-a3c3-45b1-ada7-c842bab3ee8e"
      },
      "execution_count": 91,
      "outputs": [
        {
          "output_type": "stream",
          "name": "stdout",
          "text": [
            "<class 'pandas.core.frame.DataFrame'>\n",
            "Index: 13471 entries, 0 to 35907\n",
            "Data columns (total 10 columns):\n",
            " #   Column               Non-Null Count  Dtype  \n",
            "---  ------               --------------  -----  \n",
            " 0   ISBN                 13471 non-null  object \n",
            " 1   Book-Title           13471 non-null  object \n",
            " 2   Book-Author          13471 non-null  object \n",
            " 3   Publisher            13471 non-null  object \n",
            " 4   Publication_Date     13471 non-null  object \n",
            " 5   Year-Of-Publication  13471 non-null  float64\n",
            " 6   User-ID              13471 non-null  int64  \n",
            " 7   Book-Rating          13471 non-null  int64  \n",
            " 8   Location             13471 non-null  object \n",
            " 9   Age                  13471 non-null  float64\n",
            "dtypes: float64(2), int64(2), object(6)\n",
            "memory usage: 1.1+ MB\n"
          ]
        }
      ]
    },
    {
      "cell_type": "code",
      "source": [
        "merged_data = merged_data[(merged_data['Age'] >= 5) & (merged_data['Age'] <= 130)]\n",
        "merged_data['Age'].fillna(merged_data['Age'].mean(), inplace=True)\n",
        "merged_data.drop_duplicates(inplace=True)"
      ],
      "metadata": {
        "id": "_9S6Wa7sdPtr"
      },
      "execution_count": 120,
      "outputs": []
    },
    {
      "cell_type": "code",
      "source": [
        "bins = [0, 18, 25, 35, 45, 55, 65, 100]\n",
        "labels = ['5-18', '19-25', '26-35', '36-45', '46-55', '56-65', '65-130']\n",
        "merged_data['Age-Group'] = pd.cut(merged_data['Age'], bins=bins, labels=labels, right=False)\n",
        "age_group_ratings = merged_data.groupby('Age-Group')['Book-Rating'].mean()"
      ],
      "metadata": {
        "id": "0St8aEdAdVYs"
      },
      "execution_count": 121,
      "outputs": []
    },
    {
      "cell_type": "code",
      "source": [
        "plt.figure(figsize=(10, 6))\n",
        "age_group_ratings.plot(kind='bar', color='blue')\n",
        "plt.title('Average Book Rating by Age Group')\n",
        "plt.xlabel('Age Group')\n",
        "plt.ylabel('Average Rating')\n",
        "plt.xticks(rotation=45)\n",
        "plt.show()"
      ],
      "metadata": {
        "colab": {
          "base_uri": "https://localhost:8080/",
          "height": 595
        },
        "id": "gOba3h2tdk4i",
        "outputId": "b6291aed-19de-470d-f9bb-f2e43c4ff195"
      },
      "execution_count": 122,
      "outputs": [
        {
          "output_type": "display_data",
          "data": {
            "text/plain": [
              "<Figure size 1000x600 with 1 Axes>"
            ],
            "image/png": "[encoded data removed]"
          },
          "metadata": {}
        }
      ]
    },
    {
      "cell_type": "code",
      "source": [
        "avg_rating_book = merged_data.groupby('Book-Title').agg(avg_rating=('Book-Rating', 'mean'),rating_count=('Book-Rating', 'count')).reset_index()"
      ],
      "metadata": {
        "id": "oAqqhiTod2iv"
      },
      "execution_count": 123,
      "outputs": []
    },
    {
      "cell_type": "code",
      "source": [
        "rating_90th = avg_rating_book['rating_count'].quantile(0.90)\n",
        "mean_avg = avg_rating_book['avg_rating'].mean()\n",
        "\n",
        "avg_rating_book['new_score'] = ((avg_rating_book['avg_rating'] * avg_rating_book['rating_count'] + rating_90th * mean_avg) / (avg_rating_book['rating_count'] + rating_90th))\n",
        "top = avg_rating_book.sort_values('new_score', ascending=False).head(10)"
      ],
      "metadata": {
        "id": "BlZX7ALOeCRe"
      },
      "execution_count": 124,
      "outputs": []
    },
    {
      "cell_type": "code",
      "source": [
        "colors = sns.color_palette('hsv', len(top))\n",
        "plt.figure(figsize=(12, 6))\n",
        "sns.barplot(data=top, x='new_score', y='Book-Title',palette=colors)\n",
        "plt.title('Top 10 Books Based on New Score')\n",
        "plt.xlabel('New Score')\n",
        "plt.ylabel('Book Title')\n",
        "plt.xticks(rotation=45)\n",
        "plt.show()"
      ],
      "metadata": {
        "colab": {
          "base_uri": "https://localhost:8080/",
          "height": 464
        },
        "id": "466VK_K_eeGf",
        "outputId": "17ad3705-887a-43e0-c3b7-702154c8a5a9"
      },
      "execution_count": 125,
      "outputs": [
        {
          "output_type": "display_data",
          "data": {
            "text/plain": [
              "<Figure size 1200x600 with 1 Axes>"
            ],
            "image/png": "[encoded data removed]"
          },
          "metadata": {}
        }
      ]
    },
    {
      "cell_type": "code",
      "source": [
        "books_with_ratings = book_df.merge(ratings_df,on='ISBN')\n",
        "\n",
        "def format_title(title):\n",
        "    return title.title().strip()\n",
        "\n",
        "books_with_ratings['Book-Title'] = books_with_ratings['Book-Title'].apply(format_title)"
      ],
      "metadata": {
        "id": "DNZ6fRYZepyh"
      },
      "execution_count": 149,
      "outputs": []
    },
    {
      "cell_type": "code",
      "source": [
        "books_with_ratings = books_with_ratings[books_with_ratings['User-ID'].map(books_with_ratings['User-ID'].value_counts()) > 300]\n",
        "books_with_ratings = books_with_ratings[books_with_ratings['Book-Title'].map(books_with_ratings['Book-Title'].value_counts()) > 100]\n",
        "books_with_ratings = books_with_ratings.reset_index(drop=True)"
      ],
      "metadata": {
        "id": "CvNmhia9eziB"
      },
      "execution_count": 150,
      "outputs": []
    },
    {
      "cell_type": "code",
      "source": [
        "book_user_matrix = books_with_ratings.pivot_table(values='Book-Rating', index='Book-Title', columns='User-ID').fillna(0)"
      ],
      "metadata": {
        "id": "8oCLXAX7e5bJ"
      },
      "execution_count": 151,
      "outputs": []
    },
    {
      "cell_type": "code",
      "source": [
        "book_similarity_matrix = cosine_similarity(book_user_matrix)"
      ],
      "metadata": {
        "id": "EYZab8SXe8eY"
      },
      "execution_count": 152,
      "outputs": []
    },
    {
      "cell_type": "code",
      "source": [
        "import joblib\n",
        "\n",
        "book_similarity_matrix_path = '/content/book_similarity_matrix.joblib'\n",
        "joblib.dump(book_similarity_matrix, book_similarity_matrix_path)"
      ],
      "metadata": {
        "colab": {
          "base_uri": "https://localhost:8080/"
        },
        "id": "amcuBi1vhG0L",
        "outputId": "d7e26309-ffcf-4ac9-aeed-94b18d971b60"
      },
      "execution_count": 153,
      "outputs": [
        {
          "output_type": "execute_result",
          "data": {
            "text/plain": [
              "['/content/book_similarity_matrix.joblib']"
            ]
          },
          "metadata": {},
          "execution_count": 153
        }
      ]
    },
    {
      "cell_type": "code",
      "source": [
        "book_user_matrix_path = '/content/book_user_matrix.csv'\n",
        "book_user_matrix.to_csv(book_user_matrix_path)"
      ],
      "metadata": {
        "id": "MsBcwcTpnMRc"
      },
      "execution_count": 155,
      "outputs": []
    },
    {
      "cell_type": "markdown",
      "source": [
        "## Frontend"
      ],
      "metadata": {
        "id": "V1131to1hQl6"
      }
    },
    {
      "cell_type": "code",
      "source": [
        "book_similarity_matrix = joblib.load(book_similarity_matrix_path)"
      ],
      "metadata": {
        "id": "w4RbohK4iJkI"
      },
      "execution_count": 156,
      "outputs": []
    },
    {
      "cell_type": "code",
      "source": [
        "book_user_matrix = pd.read_csv(book_user_matrix_path, index_col='Book-Title')"
      ],
      "metadata": {
        "id": "7eKSLTWynhu5"
      },
      "execution_count": 157,
      "outputs": []
    },
    {
      "cell_type": "code",
      "source": [
        "def suggest_similar_books(book_name):\n",
        "    book_idx = np.where(book_user_matrix.index == book_name)[0][0]\n",
        "    scores = list(enumerate(book_similarity_matrix[book_idx]))\n",
        "    scores = sorted(scores, key=lambda x: x[1], reverse=True)[1:8]\n",
        "    book_recommendation = []\n",
        "    for p in scores:\n",
        "        temp_df = Merged_data[Merged_data['Book-Title'] == book_user_matrix.index[p[0]]]\n",
        "        book_recommendation.extend(list(temp_df.drop_duplicates('Book-Title')['Book-Title'].values))\n",
        "    return book_recommendation"
      ],
      "metadata": {
        "id": "lH3jyguhhPnK"
      },
      "execution_count": 158,
      "outputs": []
    },
    {
      "cell_type": "code",
      "source": [
        "import random\n",
        "import warnings\n",
        "warnings.filterwarnings('ignore')\n",
        "for y in range(4):\n",
        "    title = random.choice(books_with_ratings['Book-Title'].unique())\n",
        "    recommended_books = suggest_similar_books(title)\n",
        "    author = books_with_ratings[books_with_ratings['Book-Title'] == title]['Book-Author'].iloc[0]\n",
        "    print(f'\\n Since you read \"{title}\" by {author} before.\\n \\n We recommend these books for you: \\n')\n",
        "    for book in recommended_books:\n",
        "        print(f'- {book}')\n",
        "    print(\"\\n------------------\\n\")"
      ],
      "metadata": {
        "colab": {
          "base_uri": "https://localhost:8080/"
        },
        "id": "mgcvZppTcA8-",
        "outputId": "ea114fc8-49e0-4547-8550-0a409b08cb60"
      },
      "execution_count": 159,
      "outputs": [
        {
          "output_type": "stream",
          "name": "stdout",
          "text": [
            "\n",
            " Since you read \"The Notebook\" by Nicholas Sparks before.\n",
            " \n",
            " We recommend these books for you: \n",
            "\n",
            "- Lightning\n",
            "- The Reader\n",
            "- The Street Lawyer\n",
            "\n",
            "------------------\n",
            "\n",
            "\n",
            " Since you read \"The Girls' Guide To Hunting And Fishing\" by Melissa Bank before.\n",
            " \n",
            " We recommend these books for you: \n",
            "\n",
            "- Good In Bed\n",
            "- Midwives: A Novel\n",
            "- The Nanny Diaries: A Novel\n",
            "- The Runaway Jury\n",
            "\n",
            "------------------\n",
            "\n",
            "\n",
            " Since you read \"The Reader\" by Bernhard Schlink before.\n",
            " \n",
            " We recommend these books for you: \n",
            "\n",
            "- The Red Tent (Bestselling Backlist)\n",
            "- Midwives: A Novel\n",
            "- Wild Animus\n",
            "\n",
            "------------------\n",
            "\n",
            "\n",
            " Since you read \"Message In A Bottle\" by Nicholas Sparks before.\n",
            " \n",
            " We recommend these books for you: \n",
            "\n",
            "- The Notebook\n",
            "- A Painted House\n",
            "- The Summons\n",
            "- Red Dragon\n",
            "\n",
            "------------------\n",
            "\n"
          ]
        }
      ]
    }
  ]
}