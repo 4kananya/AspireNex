{
  "nbformat": 4,
  "nbformat_minor": 0,
  "metadata": {
    "colab": {
      "provenance": []
    },
    "kernelspec": {
      "name": "python3",
      "display_name": "Python 3"
    },
    "language_info": {
      "name": "python"
    }
  },
  "cells": [
    {
      "cell_type": "code",
      "execution_count": 10,
      "metadata": {
        "id": "G0lmqw2BZveI"
      },
      "outputs": [],
      "source": [
        "import pandas as pd\n",
        "import numpy as np\n",
        "from sklearn.model_selection import train_test_split\n",
        "from sklearn.feature_extraction.text import TfidfVectorizer\n",
        "from sklearn.naive_bayes import MultinomialNB\n",
        "from sklearn.linear_model import LogisticRegression\n",
        "from sklearn.svm import SVC\n",
        "from sklearn.model_selection import GridSearchCV\n",
        "from sklearn.metrics import accuracy_score, confusion_matrix,  precision_score, recall_score, f1_score\n",
        "import joblib"
      ]
    },
    {
      "cell_type": "code",
      "source": [
        "file = '/content/spam.csv'\n",
        "df = pd.read_csv(file, encoding='latin1', usecols=[0, 1])\n",
        "df.columns = ['label', 'text']\n",
        "df['bool_label'] = df['label'].map({'ham': 0, 'spam': 1})"
      ],
      "metadata": {
        "id": "yausWTFCaGtu"
      },
      "execution_count": 2,
      "outputs": []
    },
    {
      "cell_type": "code",
      "source": [
        "df.info()"
      ],
      "metadata": {
        "colab": {
          "base_uri": "https://localhost:8080/"
        },
        "id": "JrcexcM2aN-b",
        "outputId": "4dd032ab-9347-4c9b-cf71-b9c27fa77eb4"
      },
      "execution_count": 3,
      "outputs": [
        {
          "output_type": "stream",
          "name": "stdout",
          "text": [
            "<class 'pandas.core.frame.DataFrame'>\n",
            "RangeIndex: 5572 entries, 0 to 5571\n",
            "Data columns (total 3 columns):\n",
            " #   Column      Non-Null Count  Dtype \n",
            "---  ------      --------------  ----- \n",
            " 0   label       5572 non-null   object\n",
            " 1   text        5572 non-null   object\n",
            " 2   bool_label  5572 non-null   int64 \n",
            "dtypes: int64(1), object(2)\n",
            "memory usage: 130.7+ KB\n"
          ]
        }
      ]
    },
    {
      "cell_type": "code",
      "source": [
        "X=df['text']\n",
        "Y=df['bool_label']\n",
        "X_train,X_test, Y_train, Y_test = train_test_split(X,Y, test_size=0.2, random_state=42)"
      ],
      "metadata": {
        "id": "C5ISBY6GaS2x"
      },
      "execution_count": 4,
      "outputs": []
    },
    {
      "cell_type": "code",
      "source": [
        "tfidf = TfidfVectorizer(stop_words='english')\n",
        "X_train_tfidf = tfidf.fit_transform(X_train)\n",
        "X_test_tfidf = tfidf.transform(X_test)"
      ],
      "metadata": {
        "id": "1y5ekx28aZYP"
      },
      "execution_count": 5,
      "outputs": []
    },
    {
      "cell_type": "code",
      "source": [
        "model = LogisticRegression(max_iter=1000)\n",
        "param_grid = {\n",
        "    'C': [0.1, 1, 10],\n",
        "    'penalty': ['l1', 'l2'],\n",
        "    'solver': ['liblinear']\n",
        "}\n",
        "\n",
        "grid_search = GridSearchCV(model, param_grid, cv=5, scoring='f1')\n",
        "grid_search.fit(X_train_tfidf, Y_train)\n",
        "\n",
        "print(\"Best Parameters: \", grid_search.best_params_)\n",
        "best_model = grid_search.best_estimator_\n",
        "\n",
        "Y_pred = best_model.predict(X_test_tfidf)\n",
        "\n",
        "accuracy = accuracy_score(Y_test, Y_pred)\n",
        "precision = precision_score(Y_test, Y_pred, pos_label=1)\n",
        "recall = recall_score(Y_test, Y_pred, pos_label=1)\n",
        "f1 = f1_score(Y_test, Y_pred, pos_label=1)\n",
        "\n",
        "print(f'Accuracy: {accuracy}')\n",
        "print(f'Precision: {precision}')\n",
        "print(f'Recall: {recall}')\n",
        "print(f'F1 Score: {f1}')\n",
        "\n",
        "print('Confusion Matrix:')\n",
        "print(confusion_matrix(Y_test, Y_pred))"
      ],
      "metadata": {
        "colab": {
          "base_uri": "https://localhost:8080/"
        },
        "id": "FKupgpS_akZD",
        "outputId": "8edaac95-7c3e-464d-e241-e582b3bf42a9"
      },
      "execution_count": 8,
      "outputs": [
        {
          "output_type": "stream",
          "name": "stderr",
          "text": [
            "/usr/local/lib/python3.10/dist-packages/sklearn/svm/_base.py:1244: ConvergenceWarning: Liblinear failed to converge, increase the number of iterations.\n",
            "  warnings.warn(\n",
            "/usr/local/lib/python3.10/dist-packages/sklearn/svm/_base.py:1244: ConvergenceWarning: Liblinear failed to converge, increase the number of iterations.\n",
            "  warnings.warn(\n",
            "/usr/local/lib/python3.10/dist-packages/sklearn/svm/_base.py:1244: ConvergenceWarning: Liblinear failed to converge, increase the number of iterations.\n",
            "  warnings.warn(\n",
            "/usr/local/lib/python3.10/dist-packages/sklearn/svm/_base.py:1244: ConvergenceWarning: Liblinear failed to converge, increase the number of iterations.\n",
            "  warnings.warn(\n"
          ]
        },
        {
          "output_type": "stream",
          "name": "stdout",
          "text": [
            "Best Parameters:  {'C': 10, 'penalty': 'l2', 'solver': 'liblinear'}\n",
            "Accuracy: 0.9757847533632287\n",
            "Precision: 0.9624060150375939\n",
            "Recall: 0.8533333333333334\n",
            "F1 Score: 0.9045936395759717\n",
            "Confusion Matrix:\n",
            "[[960   5]\n",
            " [ 22 128]]\n"
          ]
        },
        {
          "output_type": "stream",
          "name": "stderr",
          "text": [
            "/usr/local/lib/python3.10/dist-packages/sklearn/svm/_base.py:1244: ConvergenceWarning: Liblinear failed to converge, increase the number of iterations.\n",
            "  warnings.warn(\n"
          ]
        }
      ]
    },
    {
      "cell_type": "code",
      "source": [
        "model_nb = MultinomialNB()\n",
        "\n",
        "param_grid_nb = {\n",
        "    'alpha': [0.1, 0.5, 1.0, 5.0, 10.0]\n",
        "}\n",
        "\n",
        "grid_search_nb = GridSearchCV(model_nb, param_grid_nb, cv=5, scoring='f1')\n",
        "grid_search_nb.fit(X_train_tfidf, Y_train)\n",
        "\n",
        "print(\"Best Parameters for NB: \", grid_search_nb.best_params_)\n",
        "best_model_nb = grid_search_nb.best_estimator_\n",
        "\n",
        "Y_pred_nb = best_model_nb.predict(X_test_tfidf)\n",
        "\n",
        "accuracy = accuracy_score(Y_test, Y_pred_nb)\n",
        "precision = precision_score(Y_test, Y_pred_nb, pos_label=1)\n",
        "recall = recall_score(Y_test, Y_pred_nb, pos_label=1)\n",
        "f1 = f1_score(Y_test, Y_pred_nb, pos_label=1)\n",
        "\n",
        "print(f'Accuracy: {accuracy}')\n",
        "print(f'Precision: {precision}')\n",
        "print(f'Recall: {recall}')\n",
        "print(f'F1 Score: {f1}')\n",
        "\n",
        "print('Confusion Matrix:')\n",
        "print(confusion_matrix(Y_test, Y_pred_nb))"
      ],
      "metadata": {
        "colab": {
          "base_uri": "https://localhost:8080/"
        },
        "id": "Yv31pAWTa3Ys",
        "outputId": "9210fe13-e7fe-4f3f-97dc-5acf7324be11"
      },
      "execution_count": 9,
      "outputs": [
        {
          "output_type": "stream",
          "name": "stdout",
          "text": [
            "Best Parameters for NB:  {'alpha': 0.1}\n",
            "Accuracy: 0.9811659192825112\n",
            "Precision: 0.9640287769784173\n",
            "Recall: 0.8933333333333333\n",
            "F1 Score: 0.9273356401384083\n",
            "Confusion Matrix:\n",
            "[[960   5]\n",
            " [ 16 134]]\n"
          ]
        }
      ]
    },
    {
      "cell_type": "code",
      "source": [
        "joblib.dump(best_model_nb, 'model.pkl')"
      ],
      "metadata": {
        "colab": {
          "base_uri": "https://localhost:8080/"
        },
        "id": "Hcu7tsuubZNK",
        "outputId": "6245ce38-36ea-4215-d1c8-fc0156ed5e45"
      },
      "execution_count": 16,
      "outputs": [
        {
          "output_type": "execute_result",
          "data": {
            "text/plain": [
              "['model.pkl']"
            ]
          },
          "metadata": {},
          "execution_count": 16
        }
      ]
    },
    {
      "cell_type": "code",
      "source": [
        "joblib.dump(tfidf, 'vectorizer.pkl')"
      ],
      "metadata": {
        "colab": {
          "base_uri": "https://localhost:8080/"
        },
        "id": "oG_aZJTYduol",
        "outputId": "84ceb562-6ca8-4f6a-ee1c-51aca6d3f5cf"
      },
      "execution_count": 17,
      "outputs": [
        {
          "output_type": "execute_result",
          "data": {
            "text/plain": [
              "['vectorizer.pkl']"
            ]
          },
          "metadata": {},
          "execution_count": 17
        }
      ]
    }
  ]
}